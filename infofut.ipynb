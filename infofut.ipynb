{
 "cells": [
  {
   "cell_type": "markdown",
   "metadata": {},
   "source": [
    "# Chatbot con voz"
   ]
  },
  {
   "cell_type": "markdown",
   "metadata": {},
   "source": [
    "### Ana Juárez\n",
    "### Mario Mora"
   ]
  },
  {
   "cell_type": "markdown",
   "metadata": {},
   "source": [
    "Responde al consultársele la información un jugador de fútbol, o bien por el resultado de un partido específico, por ejemplo \"Resultado entre Barcelona y Valencia\", o \"Marcador de Getafe contra Barcelona\"."
   ]
  },
  {
   "cell_type": "markdown",
   "metadata": {},
   "source": [
    "Iniciamos importando las librerías requeridas para este proyecto"
   ]
  },
  {
   "cell_type": "code",
   "execution_count": 1,
   "metadata": {},
   "outputs": [],
   "source": [
    "import speech_recognition as sr\n",
    "\n",
    "import json\n",
    "\n",
    "import nltk\n",
    "from nltk.tokenize import word_tokenize\n",
    "from nltk.corpus import cess_esp\n",
    "from nltk.tag.hmm import HiddenMarkovModelTagger, HiddenMarkovModelTrainer\n",
    "\n",
    "from nltk.chunk.regexp import *\n",
    "\n",
    "from urllib.request import urlopen\n",
    "\n",
    "import requests, pyttsx3\n"
   ]
  },
  {
   "cell_type": "markdown",
   "metadata": {},
   "source": [
    "Definimos un corpus con los nombres de los equipos de las principales ligas europeas"
   ]
  },
  {
   "cell_type": "markdown",
   "metadata": {},
   "source": [
    "### Definimos un HiddenMarkovModelTagger\n",
    "\n",
    "Lo entrenamos con el corpus, y posteriormente con el cess_esp para detectar palabras en español"
   ]
  },
  {
   "cell_type": "code",
   "execution_count": 2,
   "metadata": {},
   "outputs": [],
   "source": [
    "hmm = HiddenMarkovModelTagger.train(cess_esp.tagged_sents())"
   ]
  },
  {
   "cell_type": "markdown",
   "metadata": {},
   "source": [
    "Creamos una función para etiquetado de palabras"
   ]
  },
  {
   "cell_type": "code",
   "execution_count": 3,
   "metadata": {},
   "outputs": [],
   "source": [
    "def taggear(_frase):\n",
    "    return hmm.tag(word_tokenize(_frase))"
   ]
  },
  {
   "cell_type": "markdown",
   "metadata": {},
   "source": [
    "Creamos las reglas gramáticas para la detección de un marcador"
   ]
  },
  {
   "cell_type": "code",
   "execution_count": 4,
   "metadata": {},
   "outputs": [],
   "source": [
    "reglas_marcador = \"\"\"\n",
    "Equipo: { <np.*> }\n",
    "Equipo: { <Equipo> <np.*> }\n",
    "Partido: { <Equipo>  <sp.*> <Equipo> | <Equipo> <cc.*> <Equipo> }\n",
    "\"\"\"\n",
    "parser_marcador = nltk.RegexpParser(reglas_marcador)\n"
   ]
  },
  {
   "cell_type": "code",
   "execution_count": 5,
   "metadata": {},
   "outputs": [],
   "source": [
    "reglas_jugador = \"\"\"\n",
    "Jugador: { <di.*> <nc.*> }\n",
    "\"\"\"\n",
    "parser_jugador = nltk.RegexpParser(reglas_jugador)\n"
   ]
  },
  {
   "cell_type": "markdown",
   "metadata": {},
   "source": [
    "Se obtiene la información del árbol para a través de sus hojas determinar los equipos y consultar el marcador a través de la API"
   ]
  },
  {
   "cell_type": "code",
   "execution_count": 6,
   "metadata": {},
   "outputs": [],
   "source": [
    "def obtener_Info(_tree, tipo):\n",
    "    resultado = ''\n",
    "    for nodo in _tree:\n",
    "        if(type(nodo) != tuple):\n",
    "            #Si encuentra un nodo de tipo partido\n",
    "            if(nodo.label() == 'Partido'):\n",
    "                for elemento in nodo:\n",
    "                    if(type(elemento) != tuple):\n",
    "                        if(elemento.label() == 'Equipo'):\n",
    "                            resultado += ' '.join([ hoja[0] for hoja in elemento.leaves()]) + ' '\n",
    "            if(nodo.label() == 'Jugador'):\n",
    "                resultado += ' '.join([ hoja[0] for hoja in nodo.leaves()]) + ' '\n",
    "\n",
    "    #Vamos a formar el parámetro que se va a enviar a la API\n",
    "    if(tipo == 'Partido'):\n",
    "        return resultado.strip().replace(' ', '_vs_')\n",
    "    else: \n",
    "        return resultado.strip().replace(' ', '_')"
   ]
  },
  {
   "cell_type": "markdown",
   "metadata": {},
   "source": [
    "Función para hacer la consulta de un marcador a la API"
   ]
  },
  {
   "cell_type": "code",
   "execution_count": 7,
   "metadata": {},
   "outputs": [],
   "source": [
    "def obtener_Marcador(_frase):\n",
    "    url = 'https://www.thesportsdb.com/api/v1/json/3/searchevents.php?e=' + obtener_Info(_frase, 'Partido')    \n",
    "    data = requests.get(url)\n",
    "    evento = json.loads(data.text)\n",
    "    if(evento['event'][0]['intHomeScore'] == None):\n",
    "        return 'Este encuentro no se ha disputado'\n",
    "    return f\"El resultado del último encuentro de {evento['event'][0]['strHomeTeam']} y {evento['event'][0]['strAwayTeam']} fue de {evento['event'][0]['intHomeScore']} a {evento['event'][0]['intAwayScore']}\""
   ]
  },
  {
   "cell_type": "markdown",
   "metadata": {},
   "source": [
    "Función para hacer la consulta de un jugador a la API"
   ]
  },
  {
   "cell_type": "code",
   "execution_count": 8,
   "metadata": {},
   "outputs": [],
   "source": [
    "def obtener_Jugador(_frase):\n",
    "    url = \"https://thesportsdb.com/api/v1/json/3/searchplayers.php?p=\" + _frase\n",
    "    data = requests.get(url)\n",
    "    jugador = json.loads(data.text)\n",
    "    if(jugador['player'][0]['idPlayer'] == None):\n",
    "        return 'Jugador no encontrado'\n",
    "    return f\"{jugador['player'][0]['strPlayer']} es un jugador de {jugador['player'][0]['strBirthLocation']}, actualmente juega en el {jugador['player'][0]['strTeam']} y la selección de {jugador['player'][0]['strNationality']}\"    "
   ]
  },
  {
   "cell_type": "markdown",
   "metadata": {},
   "source": [
    "Función para capturar la consulta a través del micrófono"
   ]
  },
  {
   "cell_type": "code",
   "execution_count": 9,
   "metadata": {},
   "outputs": [],
   "source": [
    "def listen():\n",
    "    mic = sr.Microphone()\n",
    "    with mic as source:\n",
    "        instance = sr.Recognizer()\n",
    "        audio = instance.listen(source)\n",
    "        transcript = instance.recognize_google(audio, language='es-ES', show_all=True)\n",
    "        print(transcript['alternative'][0]['transcript'])\n",
    "        return transcript['alternative'][0]['transcript']"
   ]
  },
  {
   "cell_type": "markdown",
   "metadata": {},
   "source": [
    "Función para dar una respuesta por audio"
   ]
  },
  {
   "cell_type": "code",
   "execution_count": 10,
   "metadata": {},
   "outputs": [],
   "source": [
    "engine = pyttsx3.init()\n",
    "def speak(_text, _voice = 0):\n",
    "    voices = engine.getProperty('voices')\n",
    "    engine.setProperty('voice', voices[_voice].id)\n",
    "    engine.setProperty('rate', 130)\n",
    "    engine.say(_text)\n",
    "    engine.runAndWait()"
   ]
  },
  {
   "cell_type": "code",
   "execution_count": 11,
   "metadata": {},
   "outputs": [
    {
     "name": "stdout",
     "output_type": "stream",
     "text": [
      "quién es Luis Suárez\n",
      "Luis Suarez es un jugador de Salto, Uruguay, actualmente juega en el Inter Miami y la selección de Uruguay\n"
     ]
    }
   ],
   "source": [
    "texto = listen()\n",
    "\n",
    "resultado = ''\n",
    "\n",
    "if(('resultado' in texto) or ('marcador' in texto)):\n",
    "    frase = parser_marcador.parse(taggear(texto))\n",
    "    resultado = obtener_Marcador(frase)\n",
    "else:\n",
    "    resultado = obtener_Jugador(obtener_Info(parser_jugador.parse(taggear(texto)), 'Jugador'))\n",
    "\n",
    "print(resultado)\n",
    "speak(resultado, 3) # Se utiliza la voz número 3 instalada en nuestro ordenador, correspondiente a español de México, modificar si no se posee\n"
   ]
  }
 ],
 "metadata": {
  "kernelspec": {
   "display_name": "base",
   "language": "python",
   "name": "python3"
  },
  "language_info": {
   "codemirror_mode": {
    "name": "ipython",
    "version": 3
   },
   "file_extension": ".py",
   "mimetype": "text/x-python",
   "name": "python",
   "nbconvert_exporter": "python",
   "pygments_lexer": "ipython3",
   "version": "3.10.9"
  }
 },
 "nbformat": 4,
 "nbformat_minor": 2
}
